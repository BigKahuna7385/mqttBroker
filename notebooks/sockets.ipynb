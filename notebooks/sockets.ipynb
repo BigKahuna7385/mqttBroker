{
 "cells": [
  {
   "cell_type": "markdown",
   "metadata": {},
   "source": [
    "# TCP Sockets in Python\n",
    "Tutorial: [https://realpython.com/python-sockets/](https://realpython.com/python-sockets/)\n",
    "Tutorial: [https://steelkiwi.com/blog/working-tcp-sockets/](https://steelkiwi.com/blog/working-tcp-sockets/)"
   ]
  },
  {
   "cell_type": "markdown",
   "metadata": {},
   "source": [
    "## Simple Echo Server for multiple clients"
   ]
  },
  {
   "cell_type": "code",
   "execution_count": 2,
   "metadata": {},
   "outputs": [],
   "source": [
    "import socket, select\n",
    "HOST = \"127.0.0.1\"\n",
    "PORT = 65432\n",
    "ipv4_socket = socket.AF_INET\n",
    "tcp_socket = socket.SOCK_STREAM"
   ]
  },
  {
   "cell_type": "code",
   "execution_count": 3,
   "metadata": {},
   "outputs": [],
   "source": [
    "listener_socket = socket.socket(ipv4_socket, tcp_socket)\n",
    "listener_socket.setblocking(0)\n",
    "listener_socket.bind((HOST, PORT))\n",
    "listener_socket.listen()\n",
    "input_sockets = [listener_socket]\n",
    "outputs = []"
   ]
  },
  {
   "cell_type": "code",
   "execution_count": 4,
   "metadata": {},
   "outputs": [],
   "source": [
    "def accept_client(server_socket):\n",
    "    connection, address = sever_socket.accept()\n",
    "    connection.setblocking(0)\n",
    "    input_sockets.append(connection)"
   ]
  },
  {
   "cell_type": "code",
   "execution_count": null,
   "metadata": {},
   "outputs": [],
   "source": [
    "while input_sockets:\n",
    "    readable, writable, exceptional = select.select(input_sockets, outputs, input_sockets)\n",
    "    for s in readable:\n",
    "        if s is listener_socket:\n",
    "            accept_client(s)\n",
    "        else:\n",
    "            data = s.recv(1024)\n",
    "            if data:\n",
    "                print(data)\n",
    "                if s not in outputs: outputs.append(s)\n",
    "            else:\n",
    "                if s in outputs: outputs.remove(s)\n",
    "                input_sockets.remove(s)\n",
    "                s.close()\n",
    "    for s in writable:\n",
    "        next_msg = \"1234\"\n",
    "        s.send(next_msg)\n",
    "    for s in exceptional:\n",
    "        input_sockets.remove(s)\n",
    "        if s in outputs:\n",
    "            outputs.remove(s)\n",
    "        s.close()"
   ]
  }
 ],
 "metadata": {
  "interpreter": {
   "hash": "b1167102782f72008eedc73223ad35afeebeb6b1905d1eaaa0899667c866cb3e"
  },
  "kernelspec": {
   "display_name": "Python 3.10.4 ('mqttBroker')",
   "language": "python",
   "name": "python3"
  },
  "language_info": {
   "codemirror_mode": {
    "name": "ipython",
    "version": 3
   },
   "file_extension": ".py",
   "mimetype": "text/x-python",
   "name": "python",
   "nbconvert_exporter": "python",
   "pygments_lexer": "ipython3",
   "version": "3.10.4"
  },
  "orig_nbformat": 4
 },
 "nbformat": 4,
 "nbformat_minor": 2
}
